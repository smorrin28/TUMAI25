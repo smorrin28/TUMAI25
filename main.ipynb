{
 "cells": [
  {
   "cell_type": "code",
   "execution_count": null,
   "id": "6cc2f408-472f-44d9-8da4-d5fd172c6dd6",
   "metadata": {},
   "outputs": [],
   "source": [
    "import os\n",
    "import sys\n",
    "print(os.getcwd())"
   ]
  },
  {
   "cell_type": "code",
   "execution_count": null,
   "id": "b2f5b26e",
   "metadata": {},
   "outputs": [],
   "source": [
    "sys.path.append('/Users/leondimitrov/Desktop/TUMAI25/dev_data')"
   ]
  },
  {
   "cell_type": "code",
   "execution_count": null,
   "id": "5e419ec6",
   "metadata": {},
   "outputs": [],
   "source": [
    "from object_detection import get_image_pairs\n",
    "from triangulation.main import write_flight_plan"
   ]
  },
  {
   "cell_type": "code",
   "execution_count": null,
   "id": "d5a949e9",
   "metadata": {},
   "outputs": [],
   "source": [
    "from pathlib import Path\n",
    "\n",
    "# Define the prefix path\n",
    "prefix = Path(\"/Users/leondimitrov/Desktop/TUMAI25/dev_data/\")\n",
    "\n",
    "# Assuming your original list is named 'image_pairs'\n",
    "updated_image_pairs = [\n",
    "    (\n",
    "        (str(prefix / img1), bbox1),\n",
    "        (str(prefix / img2), bbox2)\n",
    "    )\n",
    "    for (img1, bbox1), (img2, bbox2) in image_pairs\n",
    "]"
   ]
  },
  {
   "cell_type": "code",
   "execution_count": null,
   "id": "8f235f8a",
   "metadata": {},
   "outputs": [],
   "source": [
    "DATA_FOLDER = './dev_data'\n",
    "image_pairs = get_image_pairs(DATA_FOLDER)\n",
    "write_flight_plan(updated_image_pairs)"
   ]
  }
 ],
 "metadata": {
  "kernelspec": {
   "display_name": "env2",
   "language": "python",
   "name": "python3"
  },
  "language_info": {
   "codemirror_mode": {
    "name": "ipython",
    "version": 3
   },
   "file_extension": ".py",
   "mimetype": "text/x-python",
   "name": "python",
   "nbconvert_exporter": "python",
   "pygments_lexer": "ipython3",
   "version": "3.11.12"
  }
 },
 "nbformat": 4,
 "nbformat_minor": 5
}
