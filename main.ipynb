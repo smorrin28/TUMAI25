{
 "cells": [
  {
   "cell_type": "code",
   "execution_count": null,
   "id": "b2f5b26e",
   "metadata": {
    "vscode": {
     "languageId": "plaintext"
    }
   },
   "outputs": [],
   "source": [
    "from object_detection import get_image_pairs"
   ]
  },
  {
   "cell_type": "code",
   "execution_count": null,
   "id": "8f235f8a",
   "metadata": {
    "vscode": {
     "languageId": "plaintext"
    }
   },
   "outputs": [],
   "source": [
    "DATA_FOLDER = ''\n",
    "image_pairs = get_image_pairs(DATA_FOLDER)"
   ]
  }
 ],
 "metadata": {
  "language_info": {
   "name": "python"
  }
 },
 "nbformat": 4,
 "nbformat_minor": 5
}
