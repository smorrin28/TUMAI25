{
 "cells": [
  {
   "cell_type": "code",
   "execution_count": 1,
   "id": "6cc2f408-472f-44d9-8da4-d5fd172c6dd6",
   "metadata": {},
   "outputs": [
    {
     "name": "stdout",
     "output_type": "stream",
     "text": [
      "/Users/leondimitrov/Desktop/TUMAI25\n"
     ]
    }
   ],
   "source": [
    "import os\n",
    "print(os.getcwd())"
   ]
  },
  {
   "cell_type": "code",
   "execution_count": 10,
   "id": "b2f5b26e",
   "metadata": {},
   "outputs": [],
   "source": [
    "from object_detection import get_image_pairs\n",
    "from triangulation.main import write_flight_plan"
   ]
  },
  {
   "cell_type": "code",
   "execution_count": 11,
   "id": "5e419ec6",
   "metadata": {},
   "outputs": [],
   "source": [
    "from object_detection import get_image_pairs\n",
    "from triangulation.main import write_flight_plan"
   ]
  },
  {
   "cell_type": "code",
   "execution_count": null,
   "id": "8f235f8a",
   "metadata": {},
   "outputs": [],
   "source": [
    "DATA_FOLDER = '/dev_data'\n",
    "image_pairs = get_image_pairs(DATA_FOLDER)\n",
    "write_flight_plan(image_pairs)"
   ]
  }
 ],
 "metadata": {
  "kernelspec": {
   "display_name": "env2",
   "language": "python",
   "name": "python3"
  },
  "language_info": {
   "codemirror_mode": {
    "name": "ipython",
    "version": 3
   },
   "file_extension": ".py",
   "mimetype": "text/x-python",
   "name": "python",
   "nbconvert_exporter": "python",
   "pygments_lexer": "ipython3",
   "version": "3.11.12"
  }
 },
 "nbformat": 4,
 "nbformat_minor": 5
}
